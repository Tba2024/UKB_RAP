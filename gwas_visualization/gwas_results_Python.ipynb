{
 "cells": [
  {
   "cell_type": "markdown",
   "metadata": {},
   "source": [
    "# Explore and annotate GWAS results"
   ]
  },
  {
   "cell_type": "markdown",
   "metadata": {},
   "source": [
    "<span style=\"color:gray\">Disclaimer: Any third party module or library installed by the user (i.e, using `pip install` or `install.packages()` ) and not included in an image build or maintained by DNAnexus, may be subject to updates or changes with downstream implications. Please verify dependencies and build before using any third party data source.</span>"
   ]
  },
  {
   "cell_type": "markdown",
   "metadata": {},
   "source": [
    "This notebook is delivered \"As-Is\". Notwithstanding anything to the contrary, DNAnexus will have no warranty, support, liability or other obligations with respect to Materials provided hereunder.\n",
    "\n",
    "[MIT License](https://github.com/dnanexus/UKB_RAP/blob/main/LICENSE) applies to this notebook."
   ]
  },
  {
   "cell_type": "markdown",
   "metadata": {},
   "source": [
    "#### Download and import necessary packages for use in Python"
   ]
  },
  {
   "cell_type": "code",
   "execution_count": null,
   "metadata": {},
   "outputs": [],
   "source": [
    "%%bash\n",
    "# Visualization for GWAS results\n",
    "pip -q --no-cache-dir install https://github.com/khramts/assocplots/archive/master.zip"
   ]
  },
  {
   "cell_type": "code",
   "execution_count": null,
   "metadata": {},
   "outputs": [],
   "source": [
    "from assocplots.manhattan import manhattan\n",
    "from assocplots.qqplot import qqplot, get_lambda\n",
    "import matplotlib as plt # Plotting\n",
    "import numpy as np       # Numerical operations\n",
    "import pandas as pd      # Manipulate tables of data (e.g. R-like data frames, SQL tables) -- can also use R directly!\n",
    "import warnings\n",
    "\n",
    "warnings.filterwarnings('ignore')"
   ]
  },
  {
   "cell_type": "markdown",
   "metadata": {},
   "source": [
    "### GWAS results\n",
    "\n",
    "We will read in the results from GWAS analysis into dataframes.\n",
    "\n",
    "Flat files from GWAS analysis can be readily read in as a dataframe in Python and R notebooks.  \n",
    "\n",
    "If you prefer to work with **R**, refer to **_*gwas_results_R.ipynb_** notebook. \n"
   ]
  },
  {
   "cell_type": "code",
   "execution_count": null,
   "metadata": {},
   "outputs": [],
   "source": [
    "%%bash\n",
    "dx download -f gwas_results/multiple_assoc_edit_tab.all.regenie\n",
    "\n",
    "# View head of results file\n",
    "head -3 multiple_assoc_edit_tab.all.regenie\n",
    "\n",
    "# Lets remove \"#\" from the first row to read in the header row correctly in R\n",
    "sed -i -e \"1 s/\\\\#//\" multiple_assoc_edit_tab.all.regenie"
   ]
  },
  {
   "cell_type": "code",
   "execution_count": null,
   "metadata": {},
   "outputs": [],
   "source": [
    "gwas = pd.read_csv(\"multiple_assoc_edit_tab.all.regenie\",sep='\\t')\n",
    "gwas.head()"
   ]
  },
  {
   "cell_type": "markdown",
   "metadata": {},
   "source": [
    "Adding `P` column by inversing negative logarithm with the base 10."
   ]
  },
  {
   "cell_type": "code",
   "execution_count": null,
   "metadata": {},
   "outputs": [],
   "source": [
    "gwas['P'] = 10**(-gwas.LOG10P)"
   ]
  },
  {
   "cell_type": "code",
   "execution_count": null,
   "metadata": {},
   "outputs": [],
   "source": [
    "gwas = gwas[gwas.TEST == \"ADD\"]\n",
    "gwas.head()"
   ]
  },
  {
   "cell_type": "markdown",
   "metadata": {},
   "source": [
    "#### Dataframe of results\n",
    "Let's subset dataframe to exclude NAs"
   ]
  },
  {
   "cell_type": "code",
   "execution_count": null,
   "metadata": {},
   "outputs": [],
   "source": [
    "# Lets remove NAs from the dataframe\n",
    "gwas = gwas.dropna(axis=0, how='any', subset=['P', 'CHROM','GENPOS']).reset_index(drop=True)\n",
    "gwas.head()"
   ]
  },
  {
   "cell_type": "code",
   "execution_count": null,
   "metadata": {},
   "outputs": [],
   "source": [
    "# Lets see what is the minimum p-value in our results\n",
    "gwas['P'].min()"
   ]
  },
  {
   "cell_type": "markdown",
   "metadata": {},
   "source": [
    "### Visual exploration of results\n",
    "\n",
    "#### Manhattan and QQ plots\n",
    "We'll use [assocplots](https://academic.oup.com/bioinformatics/article/33/3/432/2593901), a Python module for visualization of GWAS results  "
   ]
  },
  {
   "cell_type": "code",
   "execution_count": null,
   "metadata": {},
   "outputs": [],
   "source": [
    "# Set figure parameters\n",
    "plt.rcParams['figure.dpi'] = 150\n",
    "plt.rcParams['figure.figsize'] = 5,5\n",
    "plt.rcParams['legend.fontsize'] = 'small'\n",
    "\n",
    "# Generate QQ plot\n",
    "qqplot(data=[gwas['P']], labels=['QQ plot'], title='QQ plot',  color=['b'], fill_dens=[0.2])\n",
    "plt.pyplot.savefig('qq.png', dpi=300)                   ## Save QQ plot as .png file"
   ]
  },
  {
   "cell_type": "code",
   "execution_count": null,
   "metadata": {},
   "outputs": [],
   "source": [
    "# Calculate lambda - genomic inflation factor\n",
    "get_lambda(gwas['P'], definition = 'median')"
   ]
  },
  {
   "cell_type": "code",
   "execution_count": null,
   "metadata": {},
   "outputs": [],
   "source": [
    "# Set the dimensions for Manhattan plot\n",
    "plt.rcParams['figure.dpi']=300\n",
    "plt.rcParams['figure.figsize']=15,6\n",
    "plt.rcParams['font.size'] = 10\n",
    "plt.rcParams['legend.fontsize'] = 'large'\n",
    "plt.rcParams['figure.titlesize'] = 'large'\n",
    "\n",
    "# To select a different color map: http://matplotlib.org/examples/color/colormaps_reference.html \n",
    "cmap = plt.pyplot.get_cmap('PuRd')\n",
    "colors = [cmap(i) for i in [0.25,0.45,0.60,0.80]]\n",
    "\n",
    "# Generate Manhattan plot\n",
    "manhattan(p1=gwas['P'],\n",
    "          pos1=gwas['GENPOS'],\n",
    "          chr1=gwas['CHROM'].astype(str), \n",
    "          label1='Trait', \n",
    "          cut = 0, \n",
    "          top1=0,\n",
    "          title='GWAS Manhattan Plot - Chr19', \n",
    "          xlabel='Chromosome',\n",
    "          ylabel='-log10(p-value)',\n",
    "          lines=[6,8], \n",
    "          colors = colors, \n",
    "          scaling = '-log10')"
   ]
  },
  {
   "cell_type": "markdown",
   "metadata": {},
   "source": [
    "# Subset out GWAS candidate variants by Thresholding"
   ]
  },
  {
   "cell_type": "code",
   "execution_count": null,
   "metadata": {},
   "outputs": [],
   "source": [
    "# Subset GWAS results to select top variants\n",
    "sig_gwas = gwas.loc[gwas['P'] < 0.001]\n",
    "sig_gwas[\"CHROM\"] = sig_gwas[\"CHROM\"].astype(str)\n",
    "sig_gwas.head()"
   ]
  },
  {
   "cell_type": "markdown",
   "metadata": {},
   "source": [
    "# Annotating GWAS results with clinVar\n",
    "\n",
    "## Downloading ClinVar Annotation Files\n",
    "\n",
    "We will use a tab-delimited report based on each variant at a location on the genome for which data have been submitted to ClinVar.\n",
    "\n",
    "1. `dx download` `variant_summary.txt` file from ClinVar\n",
    "2. Load variant_summary in Pandas\n",
    "3. Subset variant_summary to only include SNPs\n",
    "4. Merge with `sig_gwas` using Chromosome and Position\n",
    "5. Select relevant columns in merged table\n"
   ]
  },
  {
   "cell_type": "code",
   "execution_count": null,
   "metadata": {},
   "outputs": [],
   "source": [
    "%%bash\n",
    "wget --no-verbose https://ftp.ncbi.nlm.nih.gov/pub/clinvar/tab_delimited/variant_summary.txt.gz\n",
    "gunzip variant_summary.txt.gz"
   ]
  },
  {
   "cell_type": "code",
   "execution_count": null,
   "metadata": {},
   "outputs": [],
   "source": [
    "clinvar = pd.read_csv(\"variant_summary.txt\", delimiter=\"\\t\")\n",
    "clinvar.head()"
   ]
  },
  {
   "cell_type": "code",
   "execution_count": null,
   "metadata": {},
   "outputs": [],
   "source": [
    "clinvar = clinvar[clinvar.Type == \"single nucleotide variant\"]"
   ]
  },
  {
   "cell_type": "code",
   "execution_count": null,
   "metadata": {},
   "outputs": [],
   "source": [
    "list(clinvar.columns)"
   ]
  },
  {
   "cell_type": "code",
   "execution_count": null,
   "metadata": {},
   "outputs": [],
   "source": [
    "clinvar_candidates = pd.merge(sig_gwas, clinvar, left_on=[\"CHROM\", \"GENPOS\"], right_on=[\"Chromosome\", \"Start\"])\n",
    "clinvar_candidates[[\"GeneSymbol\", \"Type\", \"P\",\"Chromosome\", \"Start\", \"ReferenceAllele\", \"AlternateAllele\", \"ClinicalSignificance\"]]"
   ]
  },
  {
   "cell_type": "markdown",
   "metadata": {},
   "source": [
    "## Saving our annotated results\n",
    "\n",
    "Finally, we'll use the `.to_csv()` method to write a csv file and then use `dx upload` to get this result back onto the platform. "
   ]
  },
  {
   "cell_type": "code",
   "execution_count": null,
   "metadata": {},
   "outputs": [],
   "source": [
    "clinvar_candidates.to_csv(\"clinvar_annotated_candidates.csv\")"
   ]
  },
  {
   "cell_type": "code",
   "execution_count": null,
   "metadata": {},
   "outputs": [],
   "source": [
    "%%bash\n",
    "dx upload clinvar_annotated_candidates.csv --path gwas_results/"
   ]
  },
  {
   "cell_type": "code",
   "execution_count": null,
   "metadata": {},
   "outputs": [],
   "source": []
  }
 ],
 "metadata": {
  "kernelspec": {
   "display_name": "Python 3 (ipykernel)",
   "language": "python",
   "name": "python3"
  },
  "language_info": {
   "codemirror_mode": {
    "name": "ipython",
    "version": 3
   },
   "file_extension": ".py",
   "mimetype": "text/x-python",
   "name": "python",
   "nbconvert_exporter": "python",
   "pygments_lexer": "ipython3",
   "version": "3.9.5"
  }
 },
 "nbformat": 4,
 "nbformat_minor": 4
}
