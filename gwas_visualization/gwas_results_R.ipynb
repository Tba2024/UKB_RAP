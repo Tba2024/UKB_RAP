{
 "cells": [
  {
   "cell_type": "markdown",
   "metadata": {},
   "source": [
    "# Explore and annotate GWAS results\n",
    "\n",
    "This notebook is delivered \"As-Is\". Notwithstanding anything to the contrary, DNAnexus will have no warranty, support, liability or other obligations with respect to Materials provided hereunder.\n",
    "\n",
    "[MIT License](https://github.com/dnanexus/UKB_RAP/blob/main/LICENSE) applies to this notebook.\n",
    "\n",
    "## Merging our multiple regenie files\n",
    "\n",
    "We have provided a short shell script (`process_regenie_results.sh`) that will merge regenie results from a multiple chromosomes into a single file. Depending on how your naming conventions, you may have to adjust the wildcard expression used for your file.\n",
    "\n",
    "We will proceed assuming that you have this merged file."
   ]
  },
  {
   "cell_type": "markdown",
   "metadata": {},
   "source": [
    "## Working with flat files on DNAnexus in R\n",
    "\n",
    "To work with R, files from the project on DNAnexus should be either read as a data.frame in R with pipe(\"dx cat <filename>\") functionality supported within R, or downloaded locally with `dx download` in local instance via the terminal or additional notebooks.\n",
    "\n",
    "Let's download the regenie results file to JupyterLab"
   ]
  },
  {
   "cell_type": "code",
   "execution_count": null,
   "metadata": {},
   "outputs": [],
   "source": [
    "system(\"dx download -f gwas_results/multiple_assoc_edit_tab.all.regenie\")\n",
    "\n",
    "# View first few rows:\n",
    "system('head -3 multiple_assoc_edit_tab.all.regenie', intern = T)\n",
    "\n",
    "# Lets remove \"#\" from the first row to read in the header row correctly in R\n",
    "system('sed -i -e \"1 s/\\\\#//\" multiple_assoc_edit_tab.all.regenie', intern = T)"
   ]
  },
  {
   "cell_type": "markdown",
   "metadata": {},
   "source": [
    "# Install Needed Packages\n",
    "\n",
    "These are the following packages that are required for this JupyterLab notebook. They are not installed by default; note that you will need to decide if the licenses are appropriate for your application.\n",
    "\n",
    "There can be some errors when installing these packages from an R code cell. We recommend that you open a terminal using the JupyterLab launcher, launch R on the command line and then cut and paste the code cell. Another option is to use specified version when installing libraries."
   ]
  },
  {
   "cell_type": "code",
   "execution_count": null,
   "metadata": {},
   "outputs": [],
   "source": [
    "install.packages(\"rlang\", version = '1.0.1')\n",
    "install.packages(\"qqman\")\n",
    "install.packages(\"tidyr\")\n",
    "install.packages(\"dplyr\")\n",
    "install.packages(\"ggplot2\")\n",
    "install.packages(\"manhattanly\")"
   ]
  },
  {
   "cell_type": "markdown",
   "metadata": {},
   "source": [
    "# Loading the Required Packages\n",
    "\n",
    "We'll do a little bit of data wrangling using `{tidyr}` and `{dplyr}`. Make sure that you've loaded the correct snapshot for this.\n",
    "\n",
    "`{manhattanly}` will let us produce an interactive plot using `{plotly}`. The nice thing about this package is that it will produce an interactive plot that can be shared in a Jupyter notebook."
   ]
  },
  {
   "cell_type": "code",
   "execution_count": null,
   "metadata": {},
   "outputs": [],
   "source": [
    "# load packages \n",
    "library(rlang)\n",
    "library(qqman, quietly = TRUE)\n",
    "library(repr, quietly = TRUE)\n",
    "library(tidyr, quietly = TRUE)\n",
    "library(dplyr, quietly = TRUE)\n",
    "library(ggplot2)\n",
    "library(manhattanly)"
   ]
  },
  {
   "cell_type": "markdown",
   "metadata": {},
   "source": [
    "## Reading in GWAS Result File from Jupyter Storage\n",
    "\n",
    "We'll take our GWAS result file that we downloaded it and read it in using the `read.table()` function."
   ]
  },
  {
   "cell_type": "code",
   "execution_count": null,
   "metadata": {},
   "outputs": [],
   "source": [
    "gwas = read.table(\"multiple_assoc_edit_tab.all.regenie\", header = T, as.is = T, sep = '\\t')\n",
    "# Look at the head of the gwas dataframe\n",
    "head(gwas)"
   ]
  },
  {
   "cell_type": "markdown",
   "metadata": {},
   "source": [
    "Adding `P` column by inversing negative logarithm with the base 10."
   ]
  },
  {
   "cell_type": "code",
   "execution_count": null,
   "metadata": {},
   "outputs": [],
   "source": [
    "gwas <- \n",
    "    gwas %>% mutate(P = (10^(-LOG10P)))\n",
    "head(gwas)"
   ]
  },
  {
   "cell_type": "markdown",
   "metadata": {},
   "source": [
    "Regenie output may contain multiple rows for each variant for all predictor's in the model specified with 'TEST' column. Let's filter results to look at the additive effects per variant."
   ]
  },
  {
   "cell_type": "code",
   "execution_count": null,
   "metadata": {},
   "outputs": [],
   "source": [
    "# Subset dataframe\n",
    "gwas_additive <- \n",
    "    gwas %>%\n",
    "        filter(TEST == \"ADD\") %>%\n",
    "        tidyr::drop_na(LOG10P)"
   ]
  },
  {
   "cell_type": "code",
   "execution_count": null,
   "metadata": {},
   "outputs": [],
   "source": [
    "# Dimensions of the dataframe\n",
    "dim(gwas_additive)"
   ]
  },
  {
   "cell_type": "code",
   "execution_count": null,
   "metadata": {},
   "outputs": [],
   "source": [
    "head(gwas_additive)"
   ]
  },
  {
   "cell_type": "markdown",
   "metadata": {},
   "source": [
    "What is the lowest P-value in our set of variants? "
   ]
  },
  {
   "cell_type": "code",
   "execution_count": null,
   "metadata": {},
   "outputs": [],
   "source": [
    "# Lowest P-value\n",
    "min(gwas_additive$P)"
   ]
  },
  {
   "cell_type": "markdown",
   "metadata": {},
   "source": [
    "## Generating a Q-Q plot\n",
    "\n",
    "We can generate a Q/Q plot to check our p-value distribution."
   ]
  },
  {
   "cell_type": "code",
   "execution_count": null,
   "metadata": {},
   "outputs": [],
   "source": [
    "# Generate QQ plot with the GWAS results\n",
    "qq(gwas_additive$P, main = \"Q-Q plot of case-control GWAS p-values\")"
   ]
  },
  {
   "cell_type": "markdown",
   "metadata": {},
   "source": [
    "# Plotting a Manhattan Plot\n",
    "\n",
    "We can use the `manhattan()` function from the `{qqman}` package to generate a manhattan plot.\n",
    "\n",
    "Let's first define a couple of color palettes for distinguishing the different chromosomes in our Manhattan plot."
   ]
  },
  {
   "cell_type": "code",
   "execution_count": null,
   "metadata": {},
   "outputs": [],
   "source": [
    "# Adjust plot size\n",
    "options(repr.plot.width=12, repr.plot.height=8)\n",
    "\n",
    "# Select Manhattan plot color palette \n",
    "# w = warmer tones\n",
    "# n = neutral\n",
    "# c = cooler tones\n",
    "\n",
    "# Reds\n",
    "reds.w <- c(\"#FFAD7E\", \"#E9874F\", \"#D96726\", \"#AE4A12\", \"#873100\") \n",
    "reds.n <- c(\"#FF817E\", \"#E9534F\", \"#D92B26\", \"#AE1612\", \"#870300\") \n",
    "reds.c <- c(\"#E2709A\", \"#CB4577\", \"#BD215B\", \"#970F42\", \"#75002B\") "
   ]
  },
  {
   "cell_type": "code",
   "execution_count": null,
   "metadata": {},
   "outputs": [],
   "source": [
    "# Make the Manhattan plot on the gwas results dataframe\n",
    "#Use reds.c as our color palette\n",
    "manhattan(gwas_additive, chr=\"CHROM\", \n",
    "          bp=\"GENPOS\", snp=\"ID\", p=\"P\", ylim=c(0,10), suggestiveline=FALSE,\n",
    "          col=reds.c,main=\"Manhattan Plot for case control GWAS\")\n"
   ]
  },
  {
   "cell_type": "markdown",
   "metadata": {},
   "source": [
    "We can zoom into Chromosomes 1 by using a `filter()` operation:"
   ]
  },
  {
   "cell_type": "code",
   "execution_count": null,
   "metadata": {},
   "outputs": [],
   "source": [
    "gwas_additive_12 <- \n",
    "    gwas_additive %>%\n",
    "        filter(CHROM %in% c(\"1\"))\n",
    "    \n",
    "manhattan(gwas_additive_12, chr=\"CHROM\", \n",
    "          bp=\"GENPOS\", snp=\"ID\", p=\"P\", ylim=c(0,10),  suggestiveline=FALSE,\n",
    "          col=reds.w,main=\"Manhattan Plot for case control GWAS\")"
   ]
  },
  {
   "cell_type": "markdown",
   "metadata": {},
   "source": [
    "## Interactive Manahattan Plot with the `{manhattanly}` package\n",
    "\n",
    "The `{manhattanly}` package uses `plotly` under the hood to make an interactive manhattan plot.\n",
    "\n",
    "We can control the tooltip by utilizing the `annotation1` and `annotation2` arguments and using column names."
   ]
  },
  {
   "cell_type": "code",
   "execution_count": null,
   "metadata": {},
   "outputs": [],
   "source": [
    "# By default, the `manhattanly` function assumes columns are named CHR, BP and P. \n",
    "# These can be specified by the user if they are different, like below:\n",
    "library(manhattanly)\n",
    "\n",
    "subset_gwas <- gwas_additive %>%\n",
    "    filter(CHROM %in% c(1:2))\n",
    "\n",
    "manhattanly(subset_gwas, chr = \"CHROM\", bp = \"GENPOS\", \n",
    "            snp = \"ID\", annotation1 = \"CHISQ\", suggestiveline = FALSE, \n",
    "            annotation2 = \"BETA\", p = \"P\")"
   ]
  },
  {
   "cell_type": "code",
   "execution_count": null,
   "metadata": {},
   "outputs": [],
   "source": [
    "qqly(\n",
    "    subset(gwas, CHROM %in% 1:2), chr = \"CHROM\", bp = \"GENPOS\", snp = \"ID\", \n",
    "    annotation1 = \"CHISQ\", annotation2 = \"BETA\"\n",
    ")"
   ]
  },
  {
   "cell_type": "markdown",
   "metadata": {},
   "source": [
    "# Filtering our Candidate Variant List"
   ]
  },
  {
   "cell_type": "code",
   "execution_count": null,
   "metadata": {},
   "outputs": [],
   "source": [
    "# Subset results showing suggestive association\n",
    "gwas_top <- gwas %>%\n",
    "    filter(P < 0.001) %>%\n",
    "    arrange(P)\n",
    "\n",
    "dim(gwas_top)\n",
    "\n",
    "head(gwas_top)"
   ]
  },
  {
   "cell_type": "markdown",
   "metadata": {},
   "source": [
    "# Annotating GWAS results with clinVar\n",
    "\n",
    "## Downloading ClinVar Annotation Files\n",
    "\n",
    "We will use a tab-delimited report based on each variant at a location on the genome for which data have been submitted to ClinVar.\n",
    "\n",
    "1. `wget` `variant_summary.txt.gz` file and unzip it\n",
    "2. Load variant_summary table\n",
    "3. Subset variant_summary to only include SNPs\n",
    "4. Merge with `gwas_top` using Chromosome and Position\n",
    "5. Select relevant columns in merged table"
   ]
  },
  {
   "cell_type": "code",
   "execution_count": null,
   "metadata": {},
   "outputs": [],
   "source": [
    "system(\"wget https://ftp.ncbi.nlm.nih.gov/pub/clinvar/tab_delimited/variant_summary.txt.gz\")\n",
    "system(\"gunzip variant_summary.txt.gz\")"
   ]
  },
  {
   "cell_type": "code",
   "execution_count": null,
   "metadata": {},
   "outputs": [],
   "source": [
    "clinvar <- read.delim(\"variant_summary.txt\", sep=\"\\t\") "
   ]
  },
  {
   "cell_type": "code",
   "execution_count": null,
   "metadata": {},
   "outputs": [],
   "source": [
    "colnames(clinvar)"
   ]
  },
  {
   "cell_type": "markdown",
   "metadata": {},
   "source": [
    "First we need to filter `clinvar` to only contain SNPs. We do that by `filter()` by `Type == \"single nucleotide variant\"`."
   ]
  },
  {
   "cell_type": "code",
   "execution_count": null,
   "metadata": {},
   "outputs": [],
   "source": [
    "clinvar <- clinvar %>%\n",
    "    filter(Type == \"single nucleotide variant\") %>%\n",
    "    mutate(Chromosome = as.character(Chromosome))"
   ]
  },
  {
   "cell_type": "markdown",
   "metadata": {},
   "source": [
    "Here we merge our `gwas_top` file with `clinvar` using `dplyr::inner_join()` on both the `CHROM` and `GENEPOS` columns in our data."
   ]
  },
  {
   "cell_type": "code",
   "execution_count": null,
   "metadata": {},
   "outputs": [],
   "source": [
    "gwas_top_annotated <- gwas_top %>%\n",
    "    mutate(CHROM = as.character(CHROM)) %>%\n",
    "    inner_join(y=clinvar, by=c(\"CHROM\"=\"Chromosome\", \"GENPOS\"=\"Start\")) %>%\n",
    "    mutate(CHROM = as.numeric(CHROM))\n",
    "\n",
    "colnames(gwas_top_annotated)"
   ]
  },
  {
   "cell_type": "markdown",
   "metadata": {},
   "source": [
    "Now we have our tables merged, we can pass the `clinicalsignificance` column to the `annotation1` argument and `BETA` to the `annotation2` argument in `manhattanly()`, to further understand our candidates."
   ]
  },
  {
   "cell_type": "code",
   "execution_count": null,
   "metadata": {},
   "outputs": [],
   "source": [
    "manhattanly(gwas_top_annotated, chr = \"CHROM\", bp = \"GENPOS\", \n",
    "            snp = \"ID\", suggestiveline = FALSE, annotation1 = \"ClinicalSignificance\", \n",
    "            annotation2 = \"BETA\")"
   ]
  },
  {
   "cell_type": "markdown",
   "metadata": {},
   "source": [
    "## Saving our annotated results\n",
    "\n",
    "Finally, we'll use the `write.csv()` function to write a csv file and then use `dx upload` to get this result back onto the platform. "
   ]
  },
  {
   "cell_type": "code",
   "execution_count": null,
   "metadata": {},
   "outputs": [],
   "source": [
    "write.csv(gwas_top_annotated, \"clinvar_annotated_candidates.csv\")"
   ]
  },
  {
   "cell_type": "code",
   "execution_count": null,
   "metadata": {},
   "outputs": [],
   "source": [
    "system(\"dx upload clinvar_annotated_candidates.csv --path gwas_results/\")"
   ]
  }
 ],
 "metadata": {
  "interpreter": {
   "hash": "38cca0c38332a56087b24af0bc80247f4fced29cb4f7f437d91dc159adec9c4e"
  },
  "kernelspec": {
   "display_name": "R",
   "language": "R",
   "name": "ir"
  },
  "language_info": {
   "codemirror_mode": "r",
   "file_extension": ".r",
   "mimetype": "text/x-r-source",
   "name": "R",
   "pygments_lexer": "r",
   "version": "4.1.2"
  }
 },
 "nbformat": 4,
 "nbformat_minor": 4
}
