{
 "cells": [
  {
   "cell_type": "code",
   "execution_count": null,
   "id": "625644c6-c936-42b9-be64-a15dcbe800ca",
   "metadata": {},
   "outputs": [],
   "source": []
  },
  {
   "cell_type": "markdown",
   "id": "b93cef28-ba47-4111-9560-5ce4c0c2b349",
   "metadata": {},
   "source": [
    "# As-Is Software Disclaimer\n",
    "\n",
    "This notebook is delivered \"As-Is\". Notwithstanding anything to the contrary, DNAnexus will have no warranty, support, liability or other obligations with respect to Materials provided hereunder.\n",
    "\n",
    "[MIT License](https://github.com/dnanexus/UKB_RAP/blob/main/LICENSE) applies to this notebook."
   ]
  },
  {
   "cell_type": "markdown",
   "id": "54b96d77-bb3d-4ebc-91d6-358c0a083566",
   "metadata": {},
   "source": [
    "## Jupyterlab app details (launch configuration)\n",
    "\n",
    "Recommended configuration\n",
    "- Runtime: <5 min\n",
    "- Cluster configuration: `Single Node` or local\n",
    "- Recommended instance: `mem2_ssd1_v2_x16`\n",
    "- Cost: <£0.2"
   ]
  },
  {
   "cell_type": "markdown",
   "id": "66d8b832-418a-4cfa-a2f1-22a07b72de27",
   "metadata": {},
   "source": [
    "## Introduction\n",
    "\n",
    "This notebook:\n",
    "- Prepares inputs in JSON format containing DNAnexus file IDs to use as an `-inputs` parameter for [dxCompiler](https://github.com/dnanexus/dxCompiler)\n",
    "\n",
    "See [dxCompiler documentation for more details](https://github.com/dnanexus/dxCompiler/blob/develop/doc/ExpertOptions.md#inputs)."
   ]
  },
  {
   "cell_type": "code",
   "execution_count": 1,
   "id": "e52e7c72-bf23-46c1-bd81-563fc0645cd4",
   "metadata": {},
   "outputs": [],
   "source": [
    "import glob\n",
    "import json\n",
    "import subprocess\n",
    "import os"
   ]
  },
  {
   "cell_type": "markdown",
   "id": "861361f6-2a9d-4485-b5e3-1318e0d430db",
   "metadata": {},
   "source": [
    "Set filepath to the data, phenotype file and PLINK options."
   ]
  },
  {
   "cell_type": "code",
   "execution_count": 2,
   "id": "563d5d00-bb17-4225-bb86-d0c20572873e",
   "metadata": {},
   "outputs": [],
   "source": [
    "output_file_prefix = \"gel_impute_data_snps_qc_pass\""
   ]
  },
  {
   "cell_type": "code",
   "execution_count": 3,
   "id": "78201825-ddc5-4886-81d7-4be8b78133c1",
   "metadata": {},
   "outputs": [],
   "source": [
    "plink_options = \"--mac 10 --maf 0.0001 --hwe 1e-15 --mind 0.1 --geno 0.1\""
   ]
  },
  {
   "cell_type": "code",
   "execution_count": 4,
   "id": "b9957566-f69f-44a7-a7e3-439de3d5e398",
   "metadata": {},
   "outputs": [],
   "source": [
    "path_to_data = '/Bulk/Imputation/Imputation from genotype (GEL)/'"
   ]
  },
  {
   "cell_type": "code",
   "execution_count": null,
   "id": "94a5e217-ed14-4d66-878c-02bd2a5bc185",
   "metadata": {},
   "outputs": [],
   "source": [
    "phenotype_folder = '/Data/'"
   ]
  },
  {
   "cell_type": "code",
   "execution_count": null,
   "id": "05626eb5-ebec-4c5e-a272-4debcc083615",
   "metadata": {},
   "outputs": [],
   "source": [
    "phenotype_file = 'ischemia_df.phe'"
   ]
  },
  {
   "cell_type": "code",
   "execution_count": 5,
   "id": "adb61e7b-d602-4d27-bc5f-e0ebc2e38a7d",
   "metadata": {},
   "outputs": [],
   "source": [
    "inputs = {\n",
    "  \"bgens_qc.extract_files\": \"Array[File]\",\n",
    "  \"bgens_qc.ref_first\": \"Boolean (optional, default = true)\",\n",
    "  \"bgens_qc.keep_file\": \"File? (optional)\",\n",
    "  \"bgens_qc.output_prefix\": \"String\",\n",
    "  \"bgens_qc.plink2_options\": \"String (optional, default = \\\"\\\")\",\n",
    "  \"bgens_qc.geno_sample_files\": \"Array[File]+\",\n",
    "  \"bgens_qc.geno_bgen_files\": \"Array[File]+\"\n",
    "}"
   ]
  },
  {
   "cell_type": "markdown",
   "id": "89cfc041-f8d2-4691-ae82-91f858de308e",
   "metadata": {},
   "source": [
    "## Get .bgen file IDs"
   ]
  },
  {
   "cell_type": "markdown",
   "id": "ca832b32-a328-491b-b54d-646f88cba4ff",
   "metadata": {},
   "source": [
    "*Note: you need to log into the UKB RAP before running next cell.*"
   ]
  },
  {
   "cell_type": "code",
   "execution_count": 6,
   "id": "73931a32-8fa7-4506-8532-aec0490d76b9",
   "metadata": {},
   "outputs": [
    {
     "data": {
      "text/plain": [
       "['dx://project-G8ZZBQ0JY63YJfyP2pF8XK06:file-GBz3938JykJbqPVv4p044kyB',\n",
       " 'dx://project-G8ZZBQ0JY63YJfyP2pF8XK06:file-GBz36k0JykJXypGJ4pPfQzXB',\n",
       " 'dx://project-G8ZZBQ0JY63YJfyP2pF8XK06:file-GBz345QJykJfj4912fVFq8ff',\n",
       " 'dx://project-G8ZZBQ0JY63YJfyP2pF8XK06:file-GBz34xjJykJX46B629kXY9pJ',\n",
       " 'dx://project-G8ZZBQ0JY63YJfyP2pF8XK06:file-GBz35Z8JykJfVX8G4p8Zkf6Z',\n",
       " 'dx://project-G8ZZBQ0JY63YJfyP2pF8XK06:file-GBz38q8JykJbp4Qj4kx3744b',\n",
       " 'dx://project-G8ZZBQ0JY63YJfyP2pF8XK06:file-GBz35XQJykJZkjz94p320zyJ',\n",
       " 'dx://project-G8ZZBQ0JY63YJfyP2pF8XK06:file-GBz36z8JykJXbyxj4q09f493',\n",
       " 'dx://project-G8ZZBQ0JY63YJfyP2pF8XK06:file-GBz34v8JykJZqYZQFJFz4vjk',\n",
       " 'dx://project-G8ZZBQ0JY63YJfyP2pF8XK06:file-GBz3500JykJYF1GG2Z8Qv2gz',\n",
       " 'dx://project-G8ZZBQ0JY63YJfyP2pF8XK06:file-GBz35KQJykJqgf2b1v3v86vb',\n",
       " 'dx://project-G8ZZBQ0JY63YJfyP2pF8XK06:file-GBz3738JykJfbzB34pBy14kX',\n",
       " 'dx://project-G8ZZBQ0JY63YJfyP2pF8XK06:file-GBz38vQJykJk7zV91JBpG4Kj',\n",
       " 'dx://project-G8ZZBQ0JY63YJfyP2pF8XK06:file-GBz39BQJykJq91Gb4p8KZJK8',\n",
       " 'dx://project-G8ZZBQ0JY63YJfyP2pF8XK06:file-GBz345QJykJfbzB34pBy14Qk',\n",
       " 'dx://project-G8ZZBQ0JY63YJfyP2pF8XK06:file-GBz36p0JykJzzK844pYgPgqJ',\n",
       " 'dx://project-G8ZZBQ0JY63YJfyP2pF8XK06:file-GBz385jJykJfz1v346Fq1Pg4',\n",
       " 'dx://project-G8ZZBQ0JY63YJfyP2pF8XK06:file-GBz38P8JykJvzZxB45JZ5Y7y',\n",
       " 'dx://project-G8ZZBQ0JY63YJfyP2pF8XK06:file-GBz38qQJykJfbzB34pBy1513',\n",
       " 'dx://project-G8ZZBQ0JY63YJfyP2pF8XK06:file-GBz39qQJykJf6FFv4pB5XZkK',\n",
       " 'dx://project-G8ZZBQ0JY63YJfyP2pF8XK06:file-GBz35GjJykJkZXYj4xkQ67ZJ',\n",
       " 'dx://project-G8ZZBQ0JY63YJfyP2pF8XK06:file-GBz353QJykJXgJXQ0vYXPYg7']"
      ]
     },
     "execution_count": 6,
     "metadata": {},
     "output_type": "execute_result"
    }
   ],
   "source": [
    "cmd = ['dx', 'find', 'data', '--name', '*.bgen', '--path', path_to_data, '--brief',]\n",
    "bgens =[f'dx://{item.decode(\"utf-8\")}' for item in subprocess.check_output(cmd).splitlines()]\n",
    "bgens"
   ]
  },
  {
   "cell_type": "markdown",
   "id": "b17a4c6a-8e54-4cc7-b377-7fcabd344976",
   "metadata": {},
   "source": [
    "## Get .sample file IDs"
   ]
  },
  {
   "cell_type": "markdown",
   "id": "ee2f2cc8-3937-4789-8a4b-8f702bc730e4",
   "metadata": {},
   "source": [
    "*Note: In case of TOPMed and GEL imputed data, you may need to generate new sample files, see [discussion in the community](https://community.dnanexus.com/s/question/0D5t000004CaydsCAB/have-questions-about-the-gel-or-topmed-impute-data-release-ask-them-here)*"
   ]
  },
  {
   "cell_type": "code",
   "execution_count": 7,
   "id": "c769ae67-a641-4a2b-a31c-2184428193e8",
   "metadata": {},
   "outputs": [
    {
     "data": {
      "text/plain": [
       "['dx://project-G8ZZBQ0JY63YJfyP2pF8XK06:file-GKzxjGQJFjqBKb2xFX4KkYyJ',\n",
       " 'dx://project-G8ZZBQ0JY63YJfyP2pF8XK06:file-GKzxj80JFjqPfG30FXqJF3k8',\n",
       " 'dx://project-G8ZZBQ0JY63YJfyP2pF8XK06:file-GKzxg3jJFjq3GQKzFG258fFf',\n",
       " 'dx://project-G8ZZBQ0JY63YJfyP2pF8XK06:file-GKzxgPQJFjq05QzV4VqJp92q',\n",
       " 'dx://project-G8ZZBQ0JY63YJfyP2pF8XK06:file-GKzxgPQJFjq6ZVBQFXBgVxfb',\n",
       " 'dx://project-G8ZZBQ0JY63YJfyP2pF8XK06:file-GKzxgqQJFjq8zZ5b8yFVy9XY',\n",
       " 'dx://project-G8ZZBQ0JY63YJfyP2pF8XK06:file-GKzxgqQJFjqP6x8yFGQ87Jb9',\n",
       " 'dx://project-G8ZZBQ0JY63YJfyP2pF8XK06:file-GKzxbYjJFjq05QzV4VqJp8xq',\n",
       " 'dx://project-G8ZZBQ0JY63YJfyP2pF8XK06:file-GKzxbYjJFjq7YJ8jFX58Gybp',\n",
       " 'dx://project-G8ZZBQ0JY63YJfyP2pF8XK06:file-GKzxbzjJFjq6YByyFY1j6159',\n",
       " 'dx://project-G8ZZBQ0JY63YJfyP2pF8XK06:file-GKzxbzjJFjqFz8484XK0P2Qj',\n",
       " 'dx://project-G8ZZBQ0JY63YJfyP2pF8XK06:file-GKzxfFjJFjq2pZp090Jgypp0',\n",
       " 'dx://project-G8ZZBQ0JY63YJfyP2pF8XK06:file-GKzxfFjJFjqGzj4x8Yp8jp7Z',\n",
       " 'dx://project-G8ZZBQ0JY63YJfyP2pF8XK06:file-GKzxfgjJFjq3z9KVFb5Pp9YX',\n",
       " 'dx://project-G8ZZBQ0JY63YJfyP2pF8XK06:file-GKzxfgjJFjq4ypBzFGbVzBJ2',\n",
       " 'dx://project-G8ZZBQ0JY63YJfyP2pF8XK06:file-GKzxg3jJFjq2Z7K5Fb1k29Bq',\n",
       " 'dx://project-G8ZZBQ0JY63YJfyP2pF8XK06:file-GKzxZPQJFjqJXFk3FQX5V6PF',\n",
       " 'dx://project-G8ZZBQ0JY63YJfyP2pF8XK06:file-GKzxZPjJFjq6b4kB8Y7bk3Fx',\n",
       " 'dx://project-G8ZZBQ0JY63YJfyP2pF8XK06:file-GKzxZqjJFjq1zY9PPY8VX6pV',\n",
       " 'dx://project-G8ZZBQ0JY63YJfyP2pF8XK06:file-GKzxZqjJFjq2Z7K5Fb1k294y',\n",
       " 'dx://project-G8ZZBQ0JY63YJfyP2pF8XK06:file-GKzxb80JFjq1yKQfFPjxqXgJ',\n",
       " 'dx://project-G8ZZBQ0JY63YJfyP2pF8XK06:file-GKzxb80JFjq6YYj4FbB14pk3']"
      ]
     },
     "execution_count": 7,
     "metadata": {},
     "output_type": "execute_result"
    }
   ],
   "source": [
    "cmd = ['dx', 'find', 'data', '--name', '*.sample', '--path', path_to_data, '--brief',]\n",
    "samples = [f'dx://{item.decode(\"utf-8\")}' for item in subprocess.check_output(cmd).splitlines()]\n",
    "samples"
   ]
  },
  {
   "cell_type": "markdown",
   "id": "a1b976d7-5136-4f88-ad7a-cfa978515a21",
   "metadata": {},
   "source": [
    "## Get phenotype file ID\n",
    "\n",
    "*Note: you can omit this step if you do not have pheno file (e.i. provide a list of sample to select)*"
   ]
  },
  {
   "cell_type": "code",
   "execution_count": 8,
   "id": "9db76d7d-5454-4536-a68a-c6b6672b2561",
   "metadata": {},
   "outputs": [
    {
     "data": {
      "text/plain": [
       "'dx://project-G8ZZBQ0JY63YJfyP2pF8XK06:file-GPV8vKQJY63x6vp5bF101Kgy'"
      ]
     },
     "execution_count": 8,
     "metadata": {},
     "output_type": "execute_result"
    }
   ],
   "source": [
    "cmd = ['dx', 'find', 'data', '--name', phenotype_file, '--path', phenotype_folder, '--brief',]\n",
    "pheno_file = [f'dx://{item.decode(\"utf-8\")}' for item in subprocess.check_output(cmd).splitlines()][0]\n",
    "pheno_file"
   ]
  },
  {
   "cell_type": "markdown",
   "id": "7fb9131e-e75d-4de3-b27c-4e2e772f113b",
   "metadata": {},
   "source": [
    "## Assemble inputs"
   ]
  },
  {
   "cell_type": "code",
   "execution_count": 9,
   "id": "ce05a124-3962-4d23-b89c-6023b39ae15b",
   "metadata": {},
   "outputs": [],
   "source": [
    "# extract_files are not provided, therefore this key can be deleted\n",
    "del inputs[\"bgens_qc.extract_files\"]\n",
    "inputs[\"bgens_qc.ref_first\"] = True\n",
    "inputs[\"bgens_qc.keep_file\"] = pheno_file\n",
    "inputs[\"bgens_qc.output_prefix\"] = output_file_prefix\n",
    "inputs[\"bgens_qc.plink2_options\"] = plink_options\n",
    "inputs[\"bgens_qc.geno_sample_files\"] = samples\n",
    "inputs[\"bgens_qc.geno_bgen_files\"] = bgens"
   ]
  },
  {
   "cell_type": "code",
   "execution_count": 10,
   "id": "1e4af2a3-87fd-4e40-b3bf-db9fdeb426ed",
   "metadata": {},
   "outputs": [
    {
     "data": {
      "text/plain": [
       "{'bgens_qc.ref_first': True,\n",
       " 'bgens_qc.keep_file': 'dx://project-G8ZZBQ0JY63YJfyP2pF8XK06:file-GPV8vKQJY63x6vp5bF101Kgy',\n",
       " 'bgens_qc.output_prefix': 'gel_impute_data_snps_qc_pass',\n",
       " 'bgens_qc.plink2_options': '--mac 10 --maf 0.0001 --hwe 1e-15 --mind 0.1 --geno 0.1',\n",
       " 'bgens_qc.geno_sample_files': ['dx://project-G8ZZBQ0JY63YJfyP2pF8XK06:file-GKzxjGQJFjqBKb2xFX4KkYyJ',\n",
       "  'dx://project-G8ZZBQ0JY63YJfyP2pF8XK06:file-GKzxj80JFjqPfG30FXqJF3k8',\n",
       "  'dx://project-G8ZZBQ0JY63YJfyP2pF8XK06:file-GKzxg3jJFjq3GQKzFG258fFf',\n",
       "  'dx://project-G8ZZBQ0JY63YJfyP2pF8XK06:file-GKzxgPQJFjq05QzV4VqJp92q',\n",
       "  'dx://project-G8ZZBQ0JY63YJfyP2pF8XK06:file-GKzxgPQJFjq6ZVBQFXBgVxfb',\n",
       "  'dx://project-G8ZZBQ0JY63YJfyP2pF8XK06:file-GKzxgqQJFjq8zZ5b8yFVy9XY',\n",
       "  'dx://project-G8ZZBQ0JY63YJfyP2pF8XK06:file-GKzxgqQJFjqP6x8yFGQ87Jb9',\n",
       "  'dx://project-G8ZZBQ0JY63YJfyP2pF8XK06:file-GKzxbYjJFjq05QzV4VqJp8xq',\n",
       "  'dx://project-G8ZZBQ0JY63YJfyP2pF8XK06:file-GKzxbYjJFjq7YJ8jFX58Gybp',\n",
       "  'dx://project-G8ZZBQ0JY63YJfyP2pF8XK06:file-GKzxbzjJFjq6YByyFY1j6159',\n",
       "  'dx://project-G8ZZBQ0JY63YJfyP2pF8XK06:file-GKzxbzjJFjqFz8484XK0P2Qj',\n",
       "  'dx://project-G8ZZBQ0JY63YJfyP2pF8XK06:file-GKzxfFjJFjq2pZp090Jgypp0',\n",
       "  'dx://project-G8ZZBQ0JY63YJfyP2pF8XK06:file-GKzxfFjJFjqGzj4x8Yp8jp7Z',\n",
       "  'dx://project-G8ZZBQ0JY63YJfyP2pF8XK06:file-GKzxfgjJFjq3z9KVFb5Pp9YX',\n",
       "  'dx://project-G8ZZBQ0JY63YJfyP2pF8XK06:file-GKzxfgjJFjq4ypBzFGbVzBJ2',\n",
       "  'dx://project-G8ZZBQ0JY63YJfyP2pF8XK06:file-GKzxg3jJFjq2Z7K5Fb1k29Bq',\n",
       "  'dx://project-G8ZZBQ0JY63YJfyP2pF8XK06:file-GKzxZPQJFjqJXFk3FQX5V6PF',\n",
       "  'dx://project-G8ZZBQ0JY63YJfyP2pF8XK06:file-GKzxZPjJFjq6b4kB8Y7bk3Fx',\n",
       "  'dx://project-G8ZZBQ0JY63YJfyP2pF8XK06:file-GKzxZqjJFjq1zY9PPY8VX6pV',\n",
       "  'dx://project-G8ZZBQ0JY63YJfyP2pF8XK06:file-GKzxZqjJFjq2Z7K5Fb1k294y',\n",
       "  'dx://project-G8ZZBQ0JY63YJfyP2pF8XK06:file-GKzxb80JFjq1yKQfFPjxqXgJ',\n",
       "  'dx://project-G8ZZBQ0JY63YJfyP2pF8XK06:file-GKzxb80JFjq6YYj4FbB14pk3'],\n",
       " 'bgens_qc.geno_bgen_files': ['dx://project-G8ZZBQ0JY63YJfyP2pF8XK06:file-GBz3938JykJbqPVv4p044kyB',\n",
       "  'dx://project-G8ZZBQ0JY63YJfyP2pF8XK06:file-GBz36k0JykJXypGJ4pPfQzXB',\n",
       "  'dx://project-G8ZZBQ0JY63YJfyP2pF8XK06:file-GBz345QJykJfj4912fVFq8ff',\n",
       "  'dx://project-G8ZZBQ0JY63YJfyP2pF8XK06:file-GBz34xjJykJX46B629kXY9pJ',\n",
       "  'dx://project-G8ZZBQ0JY63YJfyP2pF8XK06:file-GBz35Z8JykJfVX8G4p8Zkf6Z',\n",
       "  'dx://project-G8ZZBQ0JY63YJfyP2pF8XK06:file-GBz38q8JykJbp4Qj4kx3744b',\n",
       "  'dx://project-G8ZZBQ0JY63YJfyP2pF8XK06:file-GBz35XQJykJZkjz94p320zyJ',\n",
       "  'dx://project-G8ZZBQ0JY63YJfyP2pF8XK06:file-GBz36z8JykJXbyxj4q09f493',\n",
       "  'dx://project-G8ZZBQ0JY63YJfyP2pF8XK06:file-GBz34v8JykJZqYZQFJFz4vjk',\n",
       "  'dx://project-G8ZZBQ0JY63YJfyP2pF8XK06:file-GBz3500JykJYF1GG2Z8Qv2gz',\n",
       "  'dx://project-G8ZZBQ0JY63YJfyP2pF8XK06:file-GBz35KQJykJqgf2b1v3v86vb',\n",
       "  'dx://project-G8ZZBQ0JY63YJfyP2pF8XK06:file-GBz3738JykJfbzB34pBy14kX',\n",
       "  'dx://project-G8ZZBQ0JY63YJfyP2pF8XK06:file-GBz38vQJykJk7zV91JBpG4Kj',\n",
       "  'dx://project-G8ZZBQ0JY63YJfyP2pF8XK06:file-GBz39BQJykJq91Gb4p8KZJK8',\n",
       "  'dx://project-G8ZZBQ0JY63YJfyP2pF8XK06:file-GBz345QJykJfbzB34pBy14Qk',\n",
       "  'dx://project-G8ZZBQ0JY63YJfyP2pF8XK06:file-GBz36p0JykJzzK844pYgPgqJ',\n",
       "  'dx://project-G8ZZBQ0JY63YJfyP2pF8XK06:file-GBz385jJykJfz1v346Fq1Pg4',\n",
       "  'dx://project-G8ZZBQ0JY63YJfyP2pF8XK06:file-GBz38P8JykJvzZxB45JZ5Y7y',\n",
       "  'dx://project-G8ZZBQ0JY63YJfyP2pF8XK06:file-GBz38qQJykJfbzB34pBy1513',\n",
       "  'dx://project-G8ZZBQ0JY63YJfyP2pF8XK06:file-GBz39qQJykJf6FFv4pB5XZkK',\n",
       "  'dx://project-G8ZZBQ0JY63YJfyP2pF8XK06:file-GBz35GjJykJkZXYj4xkQ67ZJ',\n",
       "  'dx://project-G8ZZBQ0JY63YJfyP2pF8XK06:file-GBz353QJykJXgJXQ0vYXPYg7']}"
      ]
     },
     "execution_count": 10,
     "metadata": {},
     "output_type": "execute_result"
    }
   ],
   "source": [
    "inputs"
   ]
  },
  {
   "cell_type": "markdown",
   "id": "d2252918-39f3-46c7-bb92-313e9084ebf9",
   "metadata": {},
   "source": [
    "Example `inputs`\n",
    "```\n",
    "{'bgens_qc.ref_first': True,\n",
    " 'bgens_qc.keep_file': 'dx://project-aaa:file-123',\n",
    " 'bgens_qc.output_prefix': 'gel_impute_data_snps_qc_pass',\n",
    " 'bgens_qc.plink2_options': '--mac 10 --maf 0.0001 --hwe 1e-15 --mind 0.1 --geno 0.1',\n",
    " 'bgens_qc.geno_sample_files': ['dx://project-aaa:file-124',\n",
    "  'dx://project-aaa:file-125',\n",
    "  'dx://project-aaa:file-126',\n",
    "  'dx://project-aaa:file-127',\n",
    "    ...\n",
    "  'dx://project-aaa:file-128',\n",
    "  'dx://project-aaa:file-129',\n",
    "  'dx://project-aaa:file-130'],\n",
    " 'bgens_qc.geno_bgen_files': ['dx://project-aaa:131',\n",
    "  'dx://project-aaa:file-132',\n",
    "  'dx://project-aaa:file-133',\n",
    "  'dx://project-aaa:file-134',\n",
    "    ...\n",
    "  'dx://project-aaa:file-135',\n",
    "  'dx://project-aaa:file-136',\n",
    "  'dx://project-aaa:file-137']}\n",
    "```"
   ]
  },
  {
   "cell_type": "markdown",
   "id": "4acdc43f-bee8-4dca-822d-a16b1429b03f",
   "metadata": {},
   "source": [
    "## Save inputs as JSON"
   ]
  },
  {
   "cell_type": "code",
   "execution_count": 11,
   "id": "8e2faad7-4399-46fd-88ff-6fcda24737f2",
   "metadata": {},
   "outputs": [],
   "source": [
    "with open('bgens_qc_input.json', 'w') as f:\n",
    "    json.dump(inputs, f)"
   ]
  },
  {
   "cell_type": "code",
   "execution_count": null,
   "id": "252b4e7e-2d44-4a37-bfac-67b1aea9edda",
   "metadata": {},
   "outputs": [],
   "source": []
  }
 ],
 "metadata": {
  "kernelspec": {
   "display_name": "Python 3 (ipykernel)",
   "language": "python",
   "name": "python3"
  },
  "language_info": {
   "codemirror_mode": {
    "name": "ipython",
    "version": 3
   },
   "file_extension": ".py",
   "mimetype": "text/x-python",
   "name": "python",
   "nbconvert_exporter": "python",
   "pygments_lexer": "ipython3",
   "version": "3.9.5"
  }
 },
 "nbformat": 4,
 "nbformat_minor": 5
}
