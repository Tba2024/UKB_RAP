{
 "cells": [
  {
   "cell_type": "markdown",
   "metadata": {},
   "source": [
    "# Perform LD clumping analysis\n",
    "\n",
    "## As-Is Software Disclaimer\n",
    "\n",
    "This notebook is delivered \"As-Is\". Notwithstanding anything to the contrary, DNAnexus will have no warranty, support, liability or other obligations with respect to Materials provided hereunder.\n",
    "\n",
    "[MIT License](https://github.com/dnanexus/UKB_RAP/blob/main/LICENSE) applies to this notebook."
   ]
  },
  {
   "attachments": {},
   "cell_type": "markdown",
   "metadata": {},
   "source": [
    "## Jupyterlab app details (launch configuration)\n",
    "\n",
    "Recommended configuration\n",
    "- Runtime: ~20 min\n",
    "- Cluster configuration: `Single Node`\n",
    "- Recommended instance: `mem2_ssd1_v2_x32`\n",
    "- Cost: ~£0.5"
   ]
  },
  {
   "cell_type": "markdown",
   "metadata": {},
   "source": [
    "## Dependencies\n",
    "\n",
    "|Library |License|\n",
    "|:------------- |:-------------|\n",
    "|[pandas](https://pandas.pydata.org/) |[BSD-3](https://github.com/pandas-dev/pandas/blob/main/LICENSE)|\n",
    "|[numpy](https://numpy.org/) |[BSD-3](https://github.com/numpy/numpy/blob/main/LICENSE.txt)|\n",
    "|[bgenix](https://enkre.net/cgi-bin/code/bgen/doc/trunk/doc/wiki/bgenix.md) | [Boost Software License (MIT-like)](https://enkre.net/cgi-bin/code/bgen/file?name=LICENSE_1_0.txt&ci=trunk)|\n",
    "|[PLINK](https://www.cog-genomics.org/plink/1.9/) |[GPL](https://github.com/chrchang/plink-ng/blob/master/1.9/LICENSE)|\n",
    "|[PLINK2](https://www.cog-genomics.org/plink/2.0/) |[GPL](https://github.com/chrchang/plink-ng/blob/master/2.0/COPYING)|\n",
    "\n"
   ]
  },
  {
   "cell_type": "markdown",
   "metadata": {},
   "source": [
    "## Introduction\n",
    "\n",
    "This notebook:\n",
    "- Extracts significant GWAS results\n",
    "- Subset BGEN for each chromosome, leaving only significant variants\n",
    "- Converts BGEN to PLINK\n",
    "- Performs LD clumping\n",
    "- Uploads results to UKB RAP"
   ]
  },
  {
   "cell_type": "markdown",
   "metadata": {},
   "source": [
    "## Prepare environment"
   ]
  },
  {
   "cell_type": "markdown",
   "metadata": {},
   "source": [
    "Uncomment the install commands if you are comfortable with the library license and want to install and run the parts notebook that depend on the library."
   ]
  },
  {
   "cell_type": "code",
   "execution_count": null,
   "metadata": {},
   "outputs": [],
   "source": [
    "%%capture captured\n",
    "%%bash\n",
    "# Install PLINK\n",
    "#cd /opt/notebooks\n",
    "#wget https://s3.amazonaws.com/plink1-assets/plink_linux_x86_64_20230116.zip\n",
    "#unzip -o plink_linux_x86_64_20230116.zip"
   ]
  },
  {
   "cell_type": "code",
   "execution_count": null,
   "metadata": {},
   "outputs": [],
   "source": [
    "!./plink --version"
   ]
  },
  {
   "cell_type": "code",
   "execution_count": null,
   "metadata": {},
   "outputs": [],
   "source": [
    "%%capture captured\n",
    "%%bash\n",
    "# Install bgenix\n",
    "#cd /opt/notebooks\n",
    "#wget http://code.enkre.net/bgen/tarball/release/bgen.tgz\n",
    "#tar xvfz bgen.tgz > /dev/null\n",
    "#cd bgen.tgz/\n",
    "#./waf configure \n",
    "#./waf \n",
    "#./build/test/unit/test_bgen\n",
    "#./build/apps/bgenix -g example/example.16bits.bgen –list\n",
    "#cd /opt/notebooks"
   ]
  },
  {
   "cell_type": "code",
   "execution_count": null,
   "metadata": {},
   "outputs": [],
   "source": [
    "%%capture captured\n",
    "%%bash\n",
    "# Install PLINK2\n",
    "#cd /opt/notebooks\n",
    "#wget https://s3.amazonaws.com/plink2-assets/alpha3/plink2_linux_avx2_20220814.zip\n",
    "#unzip -o plink2_linux_avx2_20220814.zip"
   ]
  },
  {
   "cell_type": "code",
   "execution_count": null,
   "metadata": {},
   "outputs": [],
   "source": [
    "!./plink2 --version"
   ]
  },
  {
   "cell_type": "code",
   "execution_count": null,
   "metadata": {},
   "outputs": [],
   "source": [
    "import glob\n",
    "import numpy as np \n",
    "import pandas as pd  \n",
    "import os\n",
    "import shutil\n",
    "import subprocess"
   ]
  },
  {
   "cell_type": "code",
   "execution_count": null,
   "metadata": {},
   "outputs": [],
   "source": [
    "! dx download -f /Data/gwas_results_imputed_gel/ischemia_cc.REGENIE_WGR_additive.REGENIE_PLOTS.lmm.tsv.gz"
   ]
  },
  {
   "cell_type": "code",
   "execution_count": null,
   "metadata": {},
   "outputs": [],
   "source": [
    "! dx download -f /Data/ischemia_df.phe"
   ]
  },
  {
   "cell_type": "code",
   "execution_count": null,
   "metadata": {},
   "outputs": [],
   "source": [
    "pd.set_option('display.max_columns', 500)\n",
    "pd.set_option('max_colwidth', -1)"
   ]
  },
  {
   "cell_type": "code",
   "execution_count": null,
   "metadata": {},
   "outputs": [],
   "source": [
    "imputation_folder = 'Imputation from genotype (GEL)'\n",
    "imputation_field_id = '21008'\n",
    "output_dir = '/Data/'"
   ]
  },
  {
   "cell_type": "code",
   "execution_count": null,
   "metadata": {},
   "outputs": [],
   "source": [
    "%%bash\n",
    "# Create symlink for imputed data\n",
    "DIR='/mnt/project/Bulk/Imputation/Imputation*from*genotype*(GEL)'\n",
    "ln -sf $DIR /opt/notebooks/imputed\n",
    "DIR2=/mnt/project/Bulk-DRL/GEL_imputed_sample_files_fixed/\n",
    "ln -sf $DIR2 /opt/notebooks/samples\n",
    "DIR3=/mnt/project/Data/gel_impute_qc/\n",
    "ln -sf $DIR3 /opt/notebooks/keepsnps"
   ]
  },
  {
   "cell_type": "markdown",
   "metadata": {},
   "source": [
    "## Load GWAS results data"
   ]
  },
  {
   "cell_type": "code",
   "execution_count": null,
   "metadata": {},
   "outputs": [],
   "source": [
    "gwas = pd.read_csv(\"ischemia_cc.REGENIE_WGR_additive.REGENIE_PLOTS.lmm.tsv.gz\", sep='\\t', compression='gzip')\n",
    "gwas.head()"
   ]
  },
  {
   "cell_type": "code",
   "execution_count": null,
   "metadata": {},
   "outputs": [],
   "source": [
    "# Subset GWAS results to select top variants\n",
    "sig_gwas = gwas.loc[(gwas['Pval'] < 5*10**(-8)) & (gwas['Name'].str.startswith('rs'))].sort_values(by='Pval')\n",
    "sig_gwas[\"Chr\"] = sig_gwas[\"Chr\"].astype(str)\n",
    "sig_gwas.head()"
   ]
  },
  {
   "cell_type": "code",
   "execution_count": null,
   "metadata": {},
   "outputs": [],
   "source": [
    "sig_gwas.Chr.unique()"
   ]
  },
  {
   "cell_type": "code",
   "execution_count": null,
   "metadata": {},
   "outputs": [],
   "source": [
    "sig_gwas.shape"
   ]
  },
  {
   "cell_type": "code",
   "execution_count": null,
   "metadata": {},
   "outputs": [],
   "source": [
    "sig_gwas.to_csv('significant_variants.txt', index=False, sep='\\t')"
   ]
  },
  {
   "cell_type": "code",
   "execution_count": null,
   "metadata": {},
   "outputs": [],
   "source": [
    "pheno = pd.read_csv(\"ischemia_df.phe\", sep='\\t')\n",
    "pheno.head()"
   ]
  },
  {
   "cell_type": "code",
   "execution_count": null,
   "metadata": {},
   "outputs": [],
   "source": [
    "pheno[['FID']].to_csv('eids_to_keep.txt', index=False, sep='\\t', header=False)"
   ]
  },
  {
   "cell_type": "markdown",
   "metadata": {},
   "source": [
    "## Run LD clumping"
   ]
  },
  {
   "cell_type": "code",
   "execution_count": null,
   "metadata": {},
   "outputs": [],
   "source": [
    "# Iterate over the chromosomes having significant variants\n",
    "chromosomes = sig_gwas['Chr'].unique()\n",
    "\n",
    "BATCH_SIZE=10000\n",
    "\n",
    "if os.path.exists('tmp'):\n",
    "    shutil.rmtree('tmp')\n",
    "\n",
    "os.mkdir('tmp')\n",
    "\n",
    "        \n",
    "\n",
    "for chromosome in sorted(chromosomes, key=lambda x: int(x)):\n",
    "    # Some SNP blocks were corrupted, excluding SNPs from those regions\n",
    "    rs_names = sig_gwas[(sig_gwas['Chr'] == chromosome) & (~sig_gwas['Name'].isin(['rs934198', 'rs17062991']))]['Name']\n",
    "\n",
    "    print(chromosome)\n",
    "\n",
    "    for i, start_idx in enumerate(range(0, len(rs_names), BATCH_SIZE)):\n",
    "        rs_names_batch = rs_names[start_idx:start_idx + BATCH_SIZE]\n",
    "        print(chromosome, start_idx, len(rs_names_batch))\n",
    "        #print(rs_names_batch)\n",
    "        rs_names_batch.to_csv('rs_batch.txt', header=False, index=False)\n",
    "\n",
    "        new_bgen_name = f'tmp/{chromosome}_{i}.bgen'\n",
    "        plink_output_prefix = f'tmp/plink_{chromosome}_{i}'\n",
    "        plink_ld_output_prefix = f'tmp/plink_{chromosome}_{i}_ld_clumped'\n",
    "\n",
    "        with open(new_bgen_name, 'wb') as new_bgen:\n",
    "            print(f'Extract significant rsIDs')\n",
    "            subprocess.check_call(['/opt/notebooks/bgen.tgz/build/apps/bgenix', '-g', f'imputed/ukb21008_c{chromosome}_b0_v1.bgen', \n",
    "                            '-incl-rsids', 'rs_batch.txt'], stdout=new_bgen, stderr=subprocess.PIPE)\n",
    "            print(f'Make PLINK files')\n",
    "            subprocess.check_call(['./plink2', '--bgen', new_bgen_name, 'ref-first', '--sample', \n",
    "                               f'samples/ukb21008_c{chromosome}_b0_v1.sample', '--rm-dup', 'force-first', '--out', plink_output_prefix,\n",
    "                               '--keep-fam', 'eids_to_keep.txt', '--make-bed'])\n",
    "            print(f'Perform LD clumping -output {plink_ld_output_prefix}')\n",
    "            subprocess.check_call([\n",
    "                './plink', '--bfile', plink_output_prefix, \n",
    "                '--extract', f'keepsnps/ukb21008_c{chromosome}_b0_v1_qc_pass.snplist', '--keep-fam', 'eids_to_keep.txt',\n",
    "                '--clump-p1', '1', '--clump-r2', '0.1', '--clump-kb', '250', '--clump', 'significant_variants.txt',\n",
    "                '--clump-snp-field', 'Name', '--clump-field', 'Pval', '--out', f'{plink_ld_output_prefix}_ld_clumped'\n",
    "            ])\n"
   ]
  },
  {
   "cell_type": "markdown",
   "metadata": {},
   "source": [
    "Merge per-chromosome results into one file"
   ]
  },
  {
   "cell_type": "code",
   "execution_count": null,
   "metadata": {},
   "outputs": [],
   "source": [
    "%%bash\n",
    "head -n 1 tmp/plink_1_0_ld_clumped_ld_clumped.clumped > plink_all_ld_clumped_ld_clumped.clumped\n",
    "tail -n +2 -q tmp/plink_*_ld_clumped_ld_clumped.clumped | head -n -2 >> plink_all_ld_clumped_ld_clumped.clumped\n",
    "sed -i '/^$/d' plink_all_ld_clumped_ld_clumped.clumped"
   ]
  },
  {
   "cell_type": "code",
   "execution_count": null,
   "metadata": {},
   "outputs": [],
   "source": [
    "!dx upload plink_all_ld_clumped_ld_clumped.clumped --path /Data/LD_clump/"
   ]
  },
  {
   "cell_type": "markdown",
   "metadata": {},
   "source": [
    "## Output files\n",
    "\n",
    "- Table with the results of LD clumping, one row per each index variant (`plink_all_ld_clumped_ld_clumped.clumped`)"
   ]
  },
  {
   "cell_type": "code",
   "execution_count": null,
   "metadata": {},
   "outputs": [],
   "source": []
  }
 ],
 "metadata": {
  "kernelspec": {
   "display_name": "Python 3",
   "language": "python",
   "name": "python3"
  },
  "language_info": {
   "codemirror_mode": {
    "name": "ipython",
    "version": 3
   },
   "file_extension": ".py",
   "mimetype": "text/x-python",
   "name": "python",
   "nbconvert_exporter": "python",
   "pygments_lexer": "ipython3",
   "version": "3.9.5 (default, Jun  9 2021, 15:20:47) \n[Clang 12.0.0 (clang-1200.0.32.29)]"
  },
  "vscode": {
   "interpreter": {
    "hash": "e06e3f195d18d1161c1ded2b7c7e59e5705f3c846bd7c63c0684738129763ca1"
   }
  }
 },
 "nbformat": 4,
 "nbformat_minor": 4
}
