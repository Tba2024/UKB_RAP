{
 "cells": [
  {
   "cell_type": "markdown",
   "metadata": {},
   "source": [
    "# Run PheWAS using PheWAS package\n",
    "\n",
    "## As-Is Software Disclaimer\n",
    "\n",
    "This notebook is delivered \"As-Is\". Notwithstanding anything to the contrary, DNAnexus will have no warranty, support, liability or other obligations with respect to Materials provided hereunder.\n",
    "\n",
    "[MIT License](https://github.com/dnanexus/UKB_RAP/blob/main/LICENSE) applies to this notebook."
   ]
  },
  {
   "cell_type": "markdown",
   "metadata": {},
   "source": [
    "## Jupyterlab app details (launch configuration)\n",
    "\n",
    "Recommended configuration\n",
    "- Runtime: ~ 6 hours\n",
    "- Cluster configuration: `Single Node`\n",
    "- Recommended instance: `mem2_ssd1_v2_x32`\n",
    "- Cost:  ~£5.5"
   ]
  },
  {
   "attachments": {},
   "cell_type": "markdown",
   "metadata": {},
   "source": [
    "## Dependencies\n",
    "|Library |License|\n",
    "|:------------- |:-------------|\n",
    "|[cli](https://cli.r-lib.org/) | [MIT](https://cli.r-lib.org/LICENSE.html) |\n",
    "|[devtools](https://devtools.r-lib.org/) | [MIT](https://devtools.r-lib.org/LICENSE.html) |\n",
    "|[dplyr](https://dplyr.tidyverse.org) | [MIT](https://dplyr.tidyverse.org/LICENSE.html) |\n",
    "|[DT](https://rstudio.github.io/DT/) | [GPL-3](https://github.com/rstudio/DT/blob/main/LICENSE) |\n",
    "|[ggplot2](https://ggplot2.tidyverse.org) | [MIT](https://ggplot2.tidyverse.org/LICENSE.html) |\n",
    "|[ggrepel](https://ggrepel.slowkow.com/articles/examples.html) | [GPL-3](https://github.com/slowkow/ggrepel/blob/master/LICENSE) |\n",
    "|[MASS](https://cran.r-project.org/web/packages/MASS/index.html) | [GPL-3](https://cran.r-project.org/web/licenses/GPL-3) |\n",
    "|[meta](https://cran.r-project.org/web/packages/meta/index.html) | [GPL-3](https://cran.r-project.org/web/licenses/GPL-3) |\n",
    "|[PheWAS](https://github.com/PheWAS/PheWAS) | [GPL-3](https://www.gnu.org/licenses/gpl-3.0.en.html)|\n",
    "|[tidyr](https://tidyr.tidyverse.org) | [MIT](https://tidyr.tidyverse.org/LICENSE.html) |\n",
    "|[tidyverse](https://www.tidyverse.org/) |[MIT](https://github.com/tidyverse/tidyverse/blob/main/LICENSE.md) |\n",
    "|[vctrs](https://vctrs.r-lib.org/) | [MIT](https://vctrs.r-lib.org/LICENSE.html) |\n",
    "\n",
    "\n",
    "## Introduction\n",
    "\n",
    "This notebook shows how to run PheWAS analysis using [PheWAS R package](https://github.com/PheWAS/PheWAS).\n",
    "\n",
    "Data used for this notebook:\n",
    "- Phenome data in long format containing ICD10 codes per participant (`pheno_icd10_long.csv`)\n",
    "- Table containing covariates (`ischemia.covariate`)\n",
    "- Genetic data for each rsID (`<rsid>.csv`)\n"
   ]
  },
  {
   "cell_type": "markdown",
   "metadata": {},
   "source": [
    "## Preparing your environment"
   ]
  },
  {
   "cell_type": "markdown",
   "metadata": {},
   "source": [
    "Uncomment the install commands if you are comfortable with the library license and want to install and run the parts notebook that depend on the library."
   ]
  },
  {
   "cell_type": "code",
   "execution_count": null,
   "metadata": {},
   "outputs": [],
   "source": [
    "system('apt update')\n",
    "system('apt -y upgrade')\n",
    "system('apt -y install libnlopt-dev')\n",
    "system('apt -y install libcurl4-openssl-dev')\n",
    "system('apt -y install libbz2-dev liblzma-dev')\n",
    "system('apt -y install libfontconfig1-dev')\n",
    "system('apt -y install libharfbuzz-dev libfribidi-dev')\n",
    "system('apt -y install libfreetype6-dev libpng-dev libtiff5-dev libjpeg-dev')\n",
    "system('apt -y install cmake')"
   ]
  },
  {
   "cell_type": "code",
   "execution_count": null,
   "metadata": {},
   "outputs": [],
   "source": [
    "#install.packages('devtools')\n",
    "#install.packages('cli')\n",
    "#install.packages(c('dplyr','tidyr','ggplot2','MASS','meta','ggrepel','DT'))\n",
    "#devtools::install_github('PheWAS/PheWAS')"
   ]
  },
  {
   "cell_type": "markdown",
   "metadata": {},
   "source": [
    "**You may need to restart kernel for the changes to apply after running the following code.**"
   ]
  },
  {
   "cell_type": "code",
   "execution_count": null,
   "metadata": {},
   "outputs": [],
   "source": [
    "#remove.packages('vctrs')\n",
    "#remove.packages('dplyr')\n",
    "\n",
    "#install.packages('vctrs')\n",
    "#install.packages('dplyr')"
   ]
  },
  {
   "cell_type": "code",
   "execution_count": null,
   "metadata": {},
   "outputs": [],
   "source": [
    "library(ggrepel)\n",
    "library(PheWAS)"
   ]
  },
  {
   "cell_type": "markdown",
   "metadata": {},
   "source": [
    "## Load phenotype and covariate data"
   ]
  },
  {
   "cell_type": "code",
   "execution_count": null,
   "metadata": {},
   "outputs": [],
   "source": [
    "system('dx download /Data/PheWAS/pheno_icd10_long.csv')"
   ]
  },
  {
   "cell_type": "code",
   "execution_count": null,
   "metadata": {},
   "outputs": [],
   "source": [
    "system('dx download /Data/PheWAS/covariates.txt')"
   ]
  },
  {
   "cell_type": "code",
   "execution_count": null,
   "metadata": {},
   "outputs": [],
   "source": [
    "pheno = read.csv('./pheno_icd10_long.csv')\n",
    "head(pheno)"
   ]
  },
  {
   "cell_type": "code",
   "execution_count": null,
   "metadata": {},
   "outputs": [],
   "source": [
    "covariate = read.csv('covariates.txt', sep = '\\t')\n",
    "head(covariate)"
   ]
  },
  {
   "cell_type": "code",
   "execution_count": null,
   "metadata": {},
   "outputs": [],
   "source": [
    "# Map ICD10 codes to code description\n",
    "phenotypes = createPhenotypes(\n",
    "    pheno, min.code.count=1, add.phecode.exclusions=T, translate=T, vocabulary.map=PheWAS::phecode_map_icd10\n",
    ")"
   ]
  },
  {
   "cell_type": "markdown",
   "metadata": {},
   "source": [
    "## Run PheWAS"
   ]
  },
  {
   "cell_type": "code",
   "execution_count": null,
   "metadata": {},
   "outputs": [],
   "source": [
    "rsid_files = list.files(path='/mnt/project/Data/phewas_geno_data', pattern=glob2rx('rs*txt'))\n",
    "rsid_files[1:10]"
   ]
  },
  {
   "cell_type": "code",
   "execution_count": null,
   "metadata": {},
   "outputs": [],
   "source": [
    "detectCores()"
   ]
  },
  {
   "cell_type": "code",
   "execution_count": null,
   "metadata": {},
   "outputs": [],
   "source": [
    "# Create table to aggregate significant results from all variants\n",
    "sig_phewas = data.frame()\n",
    "\n",
    "# Create directories to write PheWAS results and plots for each variant\n",
    "ifelse(!dir.exists('png'), dir.create('png'), FALSE)\n",
    "ifelse(!dir.exists('csv'), dir.create('csv'), FALSE)\n",
    "\n",
    "# Run PheWAS for each variant separately\n",
    "for (file in rsid_files){\n",
    "    rsid = strsplit(file, '.txt')[[1]]\n",
    "    print(rsid)\n",
    "    # Load geno data\n",
    "    geno_data = read.csv(sprintf('/mnt/project/Data/phewas_geno_data/%s', file), sep = '\\t')\n",
    "    results = phewas(\n",
    "    phenotypes, geno_data, cores = detectCores(), significance.threshold = c('p-value', 'bonferroni', 'fdr'),\n",
    "    covariates = covariate, additive.genotypes = FALSE)\n",
    "\n",
    "    # Add PheWAS descriptions\n",
    "    results_d=addPhecodeInfo(results)\n",
    "    \n",
    "    # Get significant results\n",
    "    res = results_d[results_d$bonferroni & !is.na(results_d$p),]\n",
    "    #print(\"res\")\n",
    "    #print(res)\n",
    "    print(\"sig_phewas\")\n",
    "    sig_phewas = rbind(sig_phewas, res)\n",
    "    print(sig_phewas)\n",
    "    \n",
    "    # Re-create the same threshold for plots as is used in bonferroni column\n",
    "    sig_p = 0.05/(nrow(results_d[!is.na(results_d$p),]))\n",
    "    print(\"sig_p\")\n",
    "    print(sig_p)\n",
    "    print(nrow(results_d[!is.na(results_d$p),]))\n",
    "    \n",
    "    # Exctract significant result and save it as csv\n",
    "    results_d = results_d[!is.na(results_d$p),]\n",
    "    results_d = results_d[order(results_d$group),]\n",
    "    results_d$order_num = rep(1:nrow(results_d))\n",
    "    results_d$order_num = factor(results_d$order_num, levels = results_d$order_num)\n",
    "    write.csv(results_d, sprintf('csv/%s_phewas.csv', rsid), row.names = FALSE)\n",
    "    \n",
    "    # Create Manhattan plot annotating significant phenotypes\n",
    "    # Significant phenotypes are defined by passing Bonferroni correction\n",
    "    png(filename=sprintf('png/%s_phewas_man.png', rsid), , width = 1400, height = 800)\n",
    "    options(ggrepel.max.overlaps = Inf) \n",
    "    man_plot <- ggplot(\n",
    "        results_d, \n",
    "        aes(x=order_num, y=-log(p))) + geom_point(aes(col=group, size=OR)) + theme_classic() + theme(\n",
    "                axis.text.x = element_blank(), panel.grid.minor=element_line(colour = 'grey', linetype = 'dashed'), \n",
    "                axis.ticks=element_blank()\n",
    "            ) + labs(color = 'Category', size = 'Effect size', x = rsid, y = '-log(p-value)') + geom_text_repel(\n",
    "            data=. %>% mutate(label = ifelse((p < sig_p) & (bonferroni == TRUE), as.character(description), '')), aes(label = label), size = 3,\n",
    "            box.padding = unit(0.7, 'lines')\n",
    "        ) + geom_hline(yintercept=-log(sig_p), color='red', linewidth=1, alpha=0.5) \n",
    "    print(man_plot)\n",
    "    dev.off()\n",
    "}"
   ]
  },
  {
   "cell_type": "markdown",
   "metadata": {},
   "source": [
    "Upload CSV file and PNG files to UKB RAP."
   ]
  },
  {
   "cell_type": "code",
   "execution_count": null,
   "metadata": {},
   "outputs": [],
   "source": [
    "system('dx upload -r csv/ --path /Data/PheWAS/csv/')"
   ]
  },
  {
   "cell_type": "code",
   "execution_count": null,
   "metadata": {},
   "outputs": [],
   "source": [
    "system('dx upload -r png/ --path /Data/PheWAS/png/')"
   ]
  },
  {
   "cell_type": "markdown",
   "metadata": {},
   "source": [
    "Save significant results as CSV and upload to UKB RAP."
   ]
  },
  {
   "cell_type": "code",
   "execution_count": null,
   "metadata": {},
   "outputs": [],
   "source": [
    "sig_phewas"
   ]
  },
  {
   "cell_type": "code",
   "execution_count": null,
   "metadata": {},
   "outputs": [],
   "source": [
    "write.csv(sig_phewas, 'significant_phewas.csv', row.names = FALSE)"
   ]
  },
  {
   "cell_type": "code",
   "execution_count": null,
   "metadata": {},
   "outputs": [],
   "source": [
    "system('dx upload significant_phewas.csv --path /Data/PheWAS/')"
   ]
  },
  {
   "cell_type": "markdown",
   "metadata": {},
   "source": [
    "Aggregate significant results by phenotype, count occurrence save them as CSV and upload to UKB RAP."
   ]
  },
  {
   "cell_type": "code",
   "execution_count": null,
   "metadata": {},
   "outputs": [],
   "source": [
    "sig_phewas_tb <- tibble::tibble(sig_phewas)\n",
    "sig_phewas_agg <- dplyr::count(sig_phewas_tb, description, sort = TRUE)\n",
    "sig_phewas_agg"
   ]
  },
  {
   "cell_type": "code",
   "execution_count": null,
   "metadata": {},
   "outputs": [],
   "source": [
    "write.csv(sig_phewas_agg, 'significant_phewas_agg.csv', row.names = FALSE)"
   ]
  },
  {
   "cell_type": "code",
   "execution_count": null,
   "metadata": {},
   "outputs": [],
   "source": [
    "system('dx upload significant_phewas_agg.csv --path /Data/PheWAS/')"
   ]
  },
  {
   "cell_type": "markdown",
   "metadata": {},
   "source": [
    "## Output files\n",
    "\n",
    "- Results of PheWAS analysis including phenotype description for each variant (`<rsid>_phewas.csv`)\n",
    "- Manhattan plot for PheWAS analysis for each variant (`<rsid>_phewas_man.png`)\n",
    "- Combined significant results for all variants (`significant_phewas.csv`)\n",
    "- Significant results aggregated by phenotype (`significant_phewas_agg.csv`)"
   ]
  },
  {
   "cell_type": "code",
   "execution_count": null,
   "metadata": {},
   "outputs": [],
   "source": []
  }
 ],
 "metadata": {
  "kernelspec": {
   "display_name": "Python 3",
   "language": "python",
   "name": "python3"
  },
  "language_info": {
   "codemirror_mode": {
    "name": "ipython",
    "version": 3
   },
   "file_extension": ".py",
   "mimetype": "text/x-python",
   "name": "python",
   "nbconvert_exporter": "python",
   "pygments_lexer": "ipython3",
   "version": "3.9.5 (default, Jun  9 2021, 15:20:47) \n[Clang 12.0.0 (clang-1200.0.32.29)]"
  },
  "vscode": {
   "interpreter": {
    "hash": "e06e3f195d18d1161c1ded2b7c7e59e5705f3c846bd7c63c0684738129763ca1"
   }
  }
 },
 "nbformat": 4,
 "nbformat_minor": 4
}
